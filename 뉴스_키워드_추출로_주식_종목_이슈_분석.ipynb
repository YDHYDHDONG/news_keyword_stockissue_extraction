{
  "nbformat": 4,
  "nbformat_minor": 0,
  "metadata": {
    "colab": {
      "provenance": [],
      "authorship_tag": "ABX9TyMYU5VhIAPJRBIOreXMDBDg",
      "include_colab_link": true
    },
    "kernelspec": {
      "name": "python3",
      "display_name": "Python 3"
    },
    "language_info": {
      "name": "python"
    }
  },
  "cells": [
    {
      "cell_type": "markdown",
      "metadata": {
        "id": "view-in-github",
        "colab_type": "text"
      },
      "source": [
        "<a href=\"https://colab.research.google.com/github/YDHYDHDONG/news_keyword_stockissue_extraction/blob/master/%EB%89%B4%EC%8A%A4_%ED%82%A4%EC%9B%8C%EB%93%9C_%EC%B6%94%EC%B6%9C%EB%A1%9C_%EC%A3%BC%EC%8B%9D_%EC%A2%85%EB%AA%A9_%EC%9D%B4%EC%8A%88_%EB%B6%84%EC%84%9D.ipynb\" target=\"_parent\"><img src=\"https://colab.research.google.com/assets/colab-badge.svg\" alt=\"Open In Colab\"/></a>"
      ]
    },
    {
      "cell_type": "code",
      "execution_count": null,
      "metadata": {
        "id": "PDZ5E4m1NtTs"
      },
      "outputs": [],
      "source": [
        "#한글 폰트 다운로드\n",
        "!sudo apt-get install -y fonts-nanum\n",
        "!sudo fc-cache -fv\n",
        "!rm ~/.cache/matplotlib -rf"
      ]
    },
    {
      "cell_type": "code",
      "source": [],
      "metadata": {
        "id": "UkJ7MdZwN6bU"
      },
      "execution_count": null,
      "outputs": []
    }
  ]
}