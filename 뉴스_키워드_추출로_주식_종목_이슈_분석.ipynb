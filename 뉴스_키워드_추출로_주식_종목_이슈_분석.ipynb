{
  "nbformat": 4,
  "nbformat_minor": 0,
  "metadata": {
    "colab": {
      "provenance": [],
      "authorship_tag": "ABX9TyPxtjkFcQGXDOFA9cJOgHwh",
      "include_colab_link": true
    },
    "kernelspec": {
      "name": "python3",
      "display_name": "Python 3"
    },
    "language_info": {
      "name": "python"
    }
  },
  "cells": [
    {
      "cell_type": "markdown",
      "metadata": {
        "id": "view-in-github",
        "colab_type": "text"
      },
      "source": [
        "<a href=\"https://colab.research.google.com/github/YDHYDHDONG/news_keyword_stockissue_extraction/blob/master/%EB%89%B4%EC%8A%A4_%ED%82%A4%EC%9B%8C%EB%93%9C_%EC%B6%94%EC%B6%9C%EB%A1%9C_%EC%A3%BC%EC%8B%9D_%EC%A2%85%EB%AA%A9_%EC%9D%B4%EC%8A%88_%EB%B6%84%EC%84%9D.ipynb\" target=\"_parent\"><img src=\"https://colab.research.google.com/assets/colab-badge.svg\" alt=\"Open In Colab\"/></a>"
      ]
    },
    {
      "cell_type": "code",
      "execution_count": null,
      "metadata": {
        "id": "PDZ5E4m1NtTs"
      },
      "outputs": [],
      "source": [
        "#한글 폰트 다운로드\n",
        "!sudo apt-get install -y fonts-nanum\n",
        "!sudo fc-cache -fv\n",
        "!rm ~/.cache/matplotlib -rf"
      ]
    },
    {
      "cell_type": "code",
      "source": [
        "#크롤링 위한 user_agent 다운로드\n",
        "!pip install user_agent"
      ],
      "metadata": {
        "id": "UkJ7MdZwN6bU"
      },
      "execution_count": null,
      "outputs": []
    },
    {
      "cell_type": "code",
      "source": [
        "#한글 형태소 분석기 다운로드\n",
        "!pip install konlpy\n",
        "!pip install mecab-python\n",
        "!bash <(curl -s https://raw.githubusercontent.com/konlpy/konlpy/master/scripts/mecab.sh)"
      ],
      "metadata": {
        "id": "0-jvmCEMSQD-"
      },
      "execution_count": null,
      "outputs": []
    },
    {
      "cell_type": "code",
      "source": [
        "#주가 데이터\n",
        "!pip install finance-datareader"
      ],
      "metadata": {
        "id": "lz_ypp4VSTQx"
      },
      "execution_count": null,
      "outputs": []
    },
    {
      "cell_type": "code",
      "source": [
        "import pandas as pd"
      ],
      "metadata": {
        "id": "sjxQBdDCSVv5"
      },
      "execution_count": null,
      "outputs": []
    },
    {
      "cell_type": "code",
      "source": [
        "import FinanceDataReader as fdr\n",
        "\n",
        "kospi = fdr.StockListing('KOSPI')\n",
        "kospi.head()"
      ],
      "metadata": {
        "id": "1szTe9bvSWBd"
      },
      "execution_count": null,
      "outputs": []
    },
    {
      "cell_type": "code",
      "source": [
        "top3 = kospi.head(3)[['Code','Name']]\n",
        "top3"
      ],
      "metadata": {
        "id": "uetOo2NWSXUk"
      },
      "execution_count": null,
      "outputs": []
    },
    {
      "cell_type": "code",
      "source": [
        "stock_close = pd.DataFrame()\n",
        "for i in top3.index:\n",
        "    temp = fdr.DataReader(top3.loc[i,'Code'], start='2022-01-01', end='2022-12-31')[['Close']].rename({'Close':top3.loc[i,'Name']}, axis=1)\n",
        "    stock_close = pd.concat([stock_close, temp], axis=1)"
      ],
      "metadata": {
        "id": "RutTgnMmSZKW"
      },
      "execution_count": null,
      "outputs": []
    },
    {
      "cell_type": "code",
      "source": [
        "stock_close"
      ],
      "metadata": {
        "id": "i6jg5DMUSd4W"
      },
      "execution_count": null,
      "outputs": []
    }
  ]
}